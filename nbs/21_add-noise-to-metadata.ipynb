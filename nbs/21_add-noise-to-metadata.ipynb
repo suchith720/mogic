{
 "cells": [
  {
   "cell_type": "code",
   "execution_count": null,
   "id": "17a7d0f7-a8c2-4615-a9b2-5e870f1fd5fa",
   "metadata": {},
   "outputs": [],
   "source": [
    "import xclib.data.data_utils as du, numpy as np, scipy.sparse as sp, os\n",
    "from tqdm.auto import tqdm"
   ]
  },
  {
   "cell_type": "code",
   "execution_count": null,
   "id": "55dd012c-079a-4657-b516-885586ff0bc3",
   "metadata": {},
   "outputs": [],
   "source": [
    "def add_noise_to_matrix(mat, pct=0.5):\n",
    "    indices = mat.indices.copy()\n",
    "\n",
    "    lbl_idx = np.arange(mat.shape[1])\n",
    "    for i,j in tqdm(zip(mat.indptr, mat.indptr[1:]), total=mat.shape[0]):\n",
    "        idx = mat.indices[i:j]\n",
    "        n_noise = int(len(idx) * pct)\n",
    "        rnd_idx = np.random.permutation(len(idx))[:n_noise]\n",
    "        indices[rnd_idx+i] = np.random.choice(lbl_idx, size=n_noise)\n",
    "    \n",
    "    noisy_mat = sp.csr_matrix((mat.data, indices, mat.indptr), shape=mat.shape, dtype=mat.dtype)\n",
    "    return noisy_mat\n",
    "    "
   ]
  },
  {
   "cell_type": "code",
   "execution_count": null,
   "id": "2ccec992-9f65-4f02-b561-309af95cfb43",
   "metadata": {},
   "outputs": [],
   "source": [
    "def add_noise(fname, pct=0.5):\n",
    "    mat = du.read_sparse_file(fname)\n",
    "    noisy_mat = add_noise_to_matrix(mat, pct=pct)\n",
    "\n",
    "    fname = Path(fname)\n",
    "    name = fname.stem + f'_noise-{int(pct*100):03d}'\n",
    "    sp.save_npz(fname.parent/name, noisy_mat)\n",
    "    return noisy_mat\n",
    "    "
   ]
  },
  {
   "cell_type": "code",
   "execution_count": null,
   "id": "7e834bab-eb77-4393-8478-2c38384e6617",
   "metadata": {},
   "outputs": [
    {
     "data": {
      "application/vnd.jupyter.widget-view+json": {
       "model_id": "1f5769b4f8b54e1eb8ff3ead18ae7136",
       "version_major": 2,
       "version_minor": 0
      },
      "text/plain": [
       "  0%|          | 0/693082 [00:00<?, ?it/s]"
      ]
     },
     "metadata": {},
     "output_type": "display_data"
    },
    {
     "data": {
      "application/vnd.jupyter.widget-view+json": {
       "model_id": "c33f0ebe8faa4163a65eb8553813a450",
       "version_major": 2,
       "version_minor": 0
      },
      "text/plain": [
       "  0%|          | 0/177515 [00:00<?, ?it/s]"
      ]
     },
     "metadata": {},
     "output_type": "display_data"
    },
    {
     "data": {
      "application/vnd.jupyter.widget-view+json": {
       "model_id": "b089d577d01f4c29840f242506b48f1e",
       "version_major": 2,
       "version_minor": 0
      },
      "text/plain": [
       "  0%|          | 0/312330 [00:00<?, ?it/s]"
      ]
     },
     "metadata": {},
     "output_type": "display_data"
    },
    {
     "data": {
      "text/plain": [
       "<312330x656086 sparse matrix of type '<class 'numpy.float32'>'\n",
       "\twith 1126099 stored elements in Compressed Sparse Row format>"
      ]
     },
     "execution_count": null,
     "metadata": {},
     "output_type": "execute_result"
    }
   ],
   "source": [
    "data_dir = '/home/scai/phd/aiz218323/scratch/datasets/benchmarks/(mapped)LF-WikiSeeAlsoTitles-320K/'\n",
    "\n",
    "add_noise(f'{data_dir}/category_trn_X_Y.txt', pct=0.5)\n",
    "add_noise(f'{data_dir}/category_tst_X_Y.txt', pct=0.5)\n",
    "add_noise(f'{data_dir}/category_lbl_X_Y.txt', pct=0.5)"
   ]
  },
  {
   "cell_type": "code",
   "execution_count": null,
   "id": "80c3c274-91fa-480d-b848-ad1bdad558a4",
   "metadata": {},
   "outputs": [],
   "source": []
  },
  {
   "cell_type": "code",
   "execution_count": null,
   "id": "6c82d4f7-9eda-4ff3-bd3c-95b349f3e85f",
   "metadata": {},
   "outputs": [
    {
     "data": {
      "application/vnd.jupyter.widget-view+json": {
       "model_id": "7723d17319834846b31a89fa22213ed0",
       "version_major": 2,
       "version_minor": 0
      },
      "text/plain": [
       "  0%|          | 0/1813391 [00:00<?, ?it/s]"
      ]
     },
     "metadata": {},
     "output_type": "display_data"
    },
    {
     "data": {
      "application/vnd.jupyter.widget-view+json": {
       "model_id": "fd16a67280df408a81718525adb181b7",
       "version_major": 2,
       "version_minor": 0
      },
      "text/plain": [
       "  0%|          | 0/783743 [00:00<?, ?it/s]"
      ]
     },
     "metadata": {},
     "output_type": "display_data"
    },
    {
     "data": {
      "application/vnd.jupyter.widget-view+json": {
       "model_id": "80316b5674814d41a5d82ba935066770",
       "version_major": 2,
       "version_minor": 0
      },
      "text/plain": [
       "  0%|          | 0/501070 [00:00<?, ?it/s]"
      ]
     },
     "metadata": {},
     "output_type": "display_data"
    },
    {
     "data": {
      "text/plain": [
       "<501070x2148579 sparse matrix of type '<class 'numpy.float32'>'\n",
       "\twith 85390 stored elements in Compressed Sparse Row format>"
      ]
     },
     "execution_count": null,
     "metadata": {},
     "output_type": "execute_result"
    }
   ],
   "source": [
    "data_dir = '/home/scai/phd/aiz218323/scratch/datasets/benchmarks/(mapped)LF-WikiTitles-500K'\n",
    "\n",
    "add_noise(f'{data_dir}/hyper_link_trn_X_Y.txt', pct=0.5)\n",
    "add_noise(f'{data_dir}/hyper_link_tst_X_Y.txt', pct=0.5)\n",
    "add_noise(f'{data_dir}/hyper_link_lbl_X_Y.txt', pct=0.5)"
   ]
  },
  {
   "cell_type": "code",
   "execution_count": null,
   "id": "9af81153-01e5-4cd8-b408-e877ed226b63",
   "metadata": {},
   "outputs": [],
   "source": []
  },
  {
   "cell_type": "code",
   "execution_count": null,
   "id": "a4b98e9f-03ff-4662-8364-1a907aa3d4cb",
   "metadata": {},
   "outputs": [],
   "source": [
    "def verify(mat, noisy_mat):\n",
    "    nnz_full, nnz = mat.getnnz(axis=1), mat.multiply(noisy_mat).getnnz(axis=1)\n",
    "    idx = np.where(nnz_full > 0)[0]\n",
    "    m = nnz[idx]/nnz_full[idx]\n",
    "    return m.mean()\n",
    "    "
   ]
  },
  {
   "cell_type": "code",
   "execution_count": null,
   "id": "a213e9a6-6313-41d6-85a9-5bdd769e21d5",
   "metadata": {},
   "outputs": [],
   "source": [
    "mat = du.read_sparse_file(f'{data_dir}/hyper_link_tst_X_Y.txt')\n",
    "noisy_mat = sp.load_npz(f'{data_dir}/hyper_link_tst_X_Y_noise-050.npz')"
   ]
  },
  {
   "cell_type": "code",
   "execution_count": null,
   "id": "fce1c459-9d55-43ab-b648-6f919bc72115",
   "metadata": {},
   "outputs": [],
   "source": []
  },
  {
   "cell_type": "code",
   "execution_count": null,
   "id": "f379a3af-59df-4f32-9980-9059db5cff8d",
   "metadata": {},
   "outputs": [
    {
     "data": {
      "text/plain": [
       "0.5466656174185117"
      ]
     },
     "execution_count": null,
     "metadata": {},
     "output_type": "execute_result"
    }
   ],
   "source": [
    "verify(mat, noisy_mat)"
   ]
  },
  {
   "cell_type": "code",
   "execution_count": null,
   "id": "2bd26a91-2054-4271-97d9-5982488ac336",
   "metadata": {},
   "outputs": [],
   "source": []
  }
 ],
 "metadata": {
  "kernelspec": {
   "display_name": "python3",
   "language": "python",
   "name": "python3"
  }
 },
 "nbformat": 4,
 "nbformat_minor": 5
}
